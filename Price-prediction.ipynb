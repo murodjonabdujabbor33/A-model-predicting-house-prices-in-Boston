{
  "nbformat": 4,
  "nbformat_minor": 0,
  "metadata": {
    "colab": {
      "provenance": [],
      "collapsed_sections": []
    },
    "kernelspec": {
      "name": "python3",
      "display_name": "Python 3"
    },
    "language_info": {
      "name": "python"
    }
  },
  "cells": [
    {
      "cell_type": "code",
      "execution_count": null,
      "metadata": {
        "id": "VoVVD8VLkXVA"
      },
      "outputs": [],
      "source": [
        "%pip install seaborn\n",
        "%pip install sklearn"
      ]
    },
    {
      "cell_type": "code",
      "source": [
        "import sklearn\n",
        "import numpy as np\n",
        "import pandas as pd\n",
        "import seaborn as sns\n",
        "import matplotlib.pyplot as plt\n",
        "from sklearn.linear_model import LinearRegression\n",
        "from sklearn.model_selection import train_test_split"
      ],
      "metadata": {
        "id": "sgYaNYc8AsC4"
      },
      "execution_count": null,
      "outputs": []
    },
    {
      "cell_type": "markdown",
      "source": [
        "# First Glance"
      ],
      "metadata": {
        "id": "3Pxea_WSmaDB"
      }
    },
    {
      "cell_type": "code",
      "source": [
        "def load_dataset(url):\n",
        "  df = pd.read_csv(url)\n",
        "  return df\n",
        "boston_dataframe = load_dataset(\"/content/drive/MyDrive/Astrum_DS/Qwasar_Projects/My Tu Verras/boston.csv\")\n",
        "\n",
        "def print_summarize_dataset(dataset):\n",
        "  print(\"Dataset dimension:\")\n",
        "  print(dataset.size)\n",
        "  print(\"First 10 rows of dataset:\")\n",
        "  print(dataset.head(10))\n",
        "  print(\"Statistical summary:\")\n",
        "  print(dataset.describe())\n",
        "\n",
        "print_summarize_dataset(boston_dataframe)"
      ],
      "metadata": {
        "id": "6rTdcuLllhxO"
      },
      "execution_count": null,
      "outputs": []
    },
    {
      "cell_type": "code",
      "source": [
        "boston_dataframe"
      ],
      "metadata": {
        "id": "tnlDxCTrlm_b"
      },
      "execution_count": null,
      "outputs": []
    },
    {
      "cell_type": "code",
      "source": [
        "boston_dataframe.corr()"
      ],
      "metadata": {
        "id": "os8AVV9hS1kv"
      },
      "execution_count": null,
      "outputs": []
    },
    {
      "cell_type": "markdown",
      "source": [
        "# Cleaning and Pre-processing\n"
      ],
      "metadata": {
        "id": "vldhT4EV_97W"
      }
    },
    {
      "cell_type": "code",
      "source": [
        "def clean_dataset(dataset):\n",
        "\n",
        "  miss = boston_dataframe.isnull().sum()\n",
        "  print(miss)\n",
        "  \n",
        "clean_dataset(boston_dataframe)"
      ],
      "metadata": {
        "id": "nITRlF-jlqEB"
      },
      "execution_count": null,
      "outputs": []
    },
    {
      "cell_type": "code",
      "source": [
        "boston_dataframe[0:50]"
      ],
      "metadata": {
        "id": "OXLaBKHDA7Aa"
      },
      "execution_count": null,
      "outputs": []
    },
    {
      "cell_type": "markdown",
      "source": [
        "# Data Analysis"
      ],
      "metadata": {
        "id": "-O-z-5jK-OaR"
      }
    },
    {
      "cell_type": "code",
      "source": [
        "def print_histograms(dataset):\n",
        "    fig, axis = plt.subplots(4, 4, figsize=(18,16))\n",
        "    sns.distplot(boston_dataframe['CRIM'], bins=40, ax=axis[0,0], color='blue', kde=False)\n",
        "    axis[0,0].grid(True)\n",
        "    sns.distplot(boston_dataframe['ZN'], bins=40, ax=axis[0,1], color='blue', kde=False)\n",
        "    axis[0,1].grid(True)\n",
        "    sns.distplot(boston_dataframe['INDUS'], bins=40, ax=axis[0,2], color='blue', kde=False)\n",
        "    axis[0,2].grid(True)\n",
        "    sns.distplot(boston_dataframe['CHAS'], bins=40, ax=axis[0,3], color='blue', kde=False)\n",
        "    axis[0,3].grid(True)\n",
        "    sns.distplot(boston_dataframe['NOX'], bins=40, ax=axis[1,0], color='blue', kde=False)\n",
        "    axis[1,0].grid(True)\n",
        "    sns.distplot(boston_dataframe['RM'], bins=40, ax=axis[1,1], color='blue', kde=False)\n",
        "    axis[1,1].grid(True)\n",
        "    sns.distplot(boston_dataframe['AGE'], bins=40, ax=axis[1,2], color='blue', kde=False)\n",
        "    axis[1,2].grid(True)\n",
        "    sns.distplot(boston_dataframe['DIS'], bins=40, ax=axis[1,3], color='blue', kde=False)\n",
        "    axis[1,3].grid(True)\n",
        "    sns.distplot(boston_dataframe['RAD'], bins=40, ax=axis[2,0], color='blue', kde=False)\n",
        "    axis[2,0].grid(True)\n",
        "    sns.distplot(boston_dataframe['TAX'], bins=40, ax=axis[2,1], color='blue', kde=False)\n",
        "    axis[2,1].grid(True)\n",
        "    sns.distplot(boston_dataframe['PTRATIO'], bins=40, ax=axis[2,2], color='blue', kde=False)\n",
        "    axis[2,2].grid(True)\n",
        "    sns.distplot(boston_dataframe['B'], bins=40, ax=axis[2,3], color='blue', kde=False)\n",
        "    axis[2,3].grid(True)\n",
        "    sns.distplot(boston_dataframe['LSTAT'], bins=40, ax=axis[3,0], color='blue', kde=False)\n",
        "    axis[3,0].grid(True)\n",
        "    sns.distplot(boston_dataframe['MDEV'], bins=40, ax=axis[3,1], color='blue', kde=False)\n",
        "    axis[3,1].grid(True)\n",
        "    plt.show()\n",
        "\n",
        "print_histograms(boston_dataframe)"
      ],
      "metadata": {
        "id": "8x61Iw1AA9iK",
        "colab": {
          "base_uri": "https://localhost:8080/",
          "height": 987
        },
        "outputId": "00f1dcd6-68bd-4f11-d42d-13ac8d142815"
      },
      "execution_count": null,
      "outputs": [
        {
          "output_type": "stream",
          "name": "stderr",
          "text": [
            "/usr/local/lib/python3.7/dist-packages/seaborn/distributions.py:2619: FutureWarning: `distplot` is a deprecated function and will be removed in a future version. Please adapt your code to use either `displot` (a figure-level function with similar flexibility) or `histplot` (an axes-level function for histograms).\n",
            "  warnings.warn(msg, FutureWarning)\n"
          ]
        },
        {
          "output_type": "display_data",
          "data": {
            "text/plain": [
              "<Figure size 1296x1152 with 16 Axes>"
            ],
            "image/png": "[encoded data removed]"
          },
          "metadata": {
            "needs_background": "light"
          }
        }
      ]
    },
    {
      "cell_type": "markdown",
      "source": [
        "# Looking for correlations"
      ],
      "metadata": {
        "id": "7Kol85AZUZbS"
      }
    },
    {
      "cell_type": "code",
      "source": [
        "def compute_correlations_matrix(dataset):\n",
        "  corr = boston_dataframe.corr(method = 'pearson')\n",
        "  plt.figure(figsize=(20,18))\n",
        "  sns.heatmap(corr, cmap=\"jet\", annot=True)\n",
        "  plt.xticks(rotation=90)\n",
        "  return corr\n",
        "\n",
        "correlations = compute_correlations_matrix(boston_dataframe)\n",
        "correlations['MDEV'].sort_values(ascending=False)"
      ],
      "metadata": {
        "id": "KuF9AkQ1_dnM"
      },
      "execution_count": null,
      "outputs": []
    },
    {
      "cell_type": "code",
      "source": [
        "def print_scatter_matrix(dataset):\n",
        "  pd.plotting.scatter_matrix(boston_dataframe, alpha=0.2, figsize=(25,20))\n",
        "  plt.show()\n",
        "\n",
        "print_scatter_matrix(boston_dataframe)"
      ],
      "metadata": {
        "id": "Ri2u3fke_gye"
      },
      "execution_count": null,
      "outputs": []
    },
    {
      "cell_type": "code",
      "source": [
        "def RM_MDEV_COOR(dataset):\n",
        "  plt.figure(figsize=(9,7))\n",
        "  plt.scatter(boston_dataframe['RM'], boston_dataframe['MDEV'], alpha=0.6)\n",
        "  plt.xlabel(\"RM\")\n",
        "  plt.ylabel(\"MDEV\")\n",
        "  plt.show()\n",
        "  \n",
        "RM_MDEV_COOR(boston_dataframe)"
      ],
      "metadata": {
        "id": "GgQJtf1lkKP3"
      },
      "execution_count": null,
      "outputs": []
    },
    {
      "cell_type": "code",
      "source": [
        "def MDEV_COORS(dataset):\n",
        "  for i in boston_dataframe[['LSTAT', 'AGE', 'CRIM']]:\n",
        "    plt.figure(figsize=(9,7))\n",
        "    plt.scatter(boston_dataframe[i], boston_dataframe['MDEV'], alpha=0.5)\n",
        "    plt.xlabel(i)\n",
        "    plt.ylabel('MDEV')\n",
        "    plt.show()\n",
        "\n",
        "MDEV_COORS(boston_dataframe)"
      ],
      "metadata": {
        "id": "VqwgA5cgskKb"
      },
      "execution_count": null,
      "outputs": []
    },
    {
      "cell_type": "markdown",
      "source": [
        "### Correlation coefficients for LSTAT. And attributes most linearly related to the LSTAT."
      ],
      "metadata": {
        "id": "cGvFLdwQ5b1t"
      }
    },
    {
      "cell_type": "code",
      "source": [
        "boston_dataframe.corrwith(boston_dataframe['LSTAT']).sort_values(ascending=False)"
      ],
      "metadata": {
        "id": "R2xpaG9hzuyX"
      },
      "execution_count": null,
      "outputs": []
    },
    {
      "cell_type": "code",
      "source": [
        "def LSTAT(dataset):\n",
        "  for i in boston_dataframe[['CRIM', 'ZN', 'INDUS', 'NOX', 'RM', 'AGE', 'DIS', 'RAD', 'TAX', 'MDEV']]:\n",
        "    plt.figure(figsize=(9,7))\n",
        "    plt.scatter(boston_dataframe[i], boston_dataframe['LSTAT'], alpha=0.5)\n",
        "    plt.xlabel(i)\n",
        "    plt.ylabel('LSTAT')\n",
        "    plt.yticks(rotation=90)\n",
        "    plt.show()\n",
        "\n",
        "LSTAT(boston_dataframe)"
      ],
      "metadata": {
        "id": "JF0GIo5n00Vc"
      },
      "execution_count": null,
      "outputs": []
    },
    {
      "cell_type": "markdown",
      "source": [
        "# Prediction"
      ],
      "metadata": {
        "id": "dc0U1d59-7z8"
      }
    },
    {
      "cell_type": "code",
      "source": [
        "from sklearn.linear_model import LinearRegression"
      ],
      "metadata": {
        "id": "Kfjj4WHQGTLz"
      },
      "execution_count": null,
      "outputs": []
    },
    {
      "cell_type": "code",
      "source": [
        "def boston_fit_model(dataset):\n",
        "    model_dataset = dataset[[\"RM\",\"MDEV\"]]\n",
        "    regressor = sklearn.linear_model.LinearRegression()\n",
        "    x = model_dataset.iloc[:, :-1].values\n",
        "    y = model_dataset.iloc[:, 1].values\n",
        "    x_train_set, x_test_set, y_train_set, y_test_set = sklearn.model_selection.train_test_split(x, y, train_size=0.8, random_state=35)\n",
        "    regressor.fit(x_train_set, y_train_set)\n",
        "    return regressor"
      ],
      "metadata": {
        "id": "-gryKhGr7fLk"
      },
      "execution_count": null,
      "outputs": []
    },
    {
      "cell_type": "code",
      "source": [
        "def boston_predict(estimator, array_to_predict):\n",
        "    result = estimator.predict(array_to_predict)\n",
        "    return result"
      ],
      "metadata": {
        "id": "PBdJzls9oTlH"
      },
      "execution_count": null,
      "outputs": []
    },
    {
      "cell_type": "code",
      "source": [
        "data = [1, 2, 3]\n",
        "data = np.array(data)\n",
        "data = data.reshape(-1, 1)\n",
        "estimator = boston_fit_model(boston_dataframe)\n",
        "print(boston_predict(estimator, data))"
      ],
      "metadata": {
        "id": "4mJtbf1_qEPg",
        "colab": {
          "base_uri": "https://localhost:8080/"
        },
        "outputId": "6bca7e13-9cde-4f69-a8ae-adb0d6e8bf24"
      },
      "execution_count": null,
      "outputs": [
        {
          "output_type": "stream",
          "name": "stdout",
          "text": [
            "[-26.91766936 -17.55747032  -8.19727128]\n"
          ]
        }
      ]
    },
    {
      "cell_type": "code",
      "source": [
        "def print_model_prediction_evaluator(base_test, prediction):\n",
        "    print('Mean Absolute Error:', sklearn.metrics.mean_absolute_error(base_test, prediction))\n",
        "    print('Mean Squared Error:', sklearn.metrics.mean_squared_error(base_test, prediction))\n",
        "    print('Root Mean Squared Error:', np.sqrt(sklearn.metrics.mean_squared_error(base_test, prediction)))"
      ],
      "metadata": {
        "id": "U6L5o1vUqERm"
      },
      "execution_count": null,
      "outputs": []
    },
    {
      "cell_type": "code",
      "source": [
        "model_dataset = boston_dataframe[[\"RM\",\"MDEV\"]]\n",
        "regressor = sklearn.linear_model.LinearRegression()\n",
        "x = model_dataset.iloc[:, :-1].values\n",
        "y = model_dataset.iloc[:, 1].values\n",
        "x_train_set, x_test_set, y_train_set, y_test_set = sklearn.model_selection.train_test_split(x, y, train_size=0.8, random_state=35)\n",
        "\n",
        "estimator = boston_fit_model(boston_dataframe)\n",
        "prediction = boston_predict(estimator, x_train_set)\n",
        "print_model_prediction_evaluator(y_train_set, prediction)"
      ],
      "metadata": {
        "id": "sgHIS6juoUM1",
        "colab": {
          "base_uri": "https://localhost:8080/"
        },
        "outputId": "cd9cdbda-3e5c-4a74-a9d8-fe4b4a57c3f6"
      },
      "execution_count": null,
      "outputs": [
        {
          "output_type": "stream",
          "name": "stdout",
          "text": [
            "Mean Absolute Error: 4.6211677100092485\n",
            "Mean Squared Error: 46.12733885999534\n",
            "Root Mean Squared Error: 6.791711040672692\n"
          ]
        }
      ]
    },
    {
      "cell_type": "code",
      "source": [],
      "metadata": {
        "id": "hDfDNjNQqBv4"
      },
      "execution_count": null,
      "outputs": []
    },
    {
      "cell_type": "code",
      "source": [],
      "metadata": {
        "id": "J1xlvz3dqL2B"
      },
      "execution_count": null,
      "outputs": []
    },
    {
      "cell_type": "code",
      "source": [],
      "metadata": {
        "id": "z5AXsymI8KHj"
      },
      "execution_count": null,
      "outputs": []
    }
  ]
}